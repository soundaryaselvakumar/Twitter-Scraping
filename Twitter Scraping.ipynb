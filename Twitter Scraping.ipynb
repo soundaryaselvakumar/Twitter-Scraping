{
 "cells": [
  {
   "cell_type": "code",
   "execution_count": null,
   "id": "9e53c2c3",
   "metadata": {},
   "outputs": [],
   "source": [
    "pip install pandas\n",
    "pip install numpy\n",
    "pip install snscrape"
   ]
  },
  {
   "cell_type": "code",
   "execution_count": 5,
   "id": "1eeb49fb",
   "metadata": {},
   "outputs": [],
   "source": [
    "import pandas as pd\n"
   ]
  },
  {
   "cell_type": "code",
   "execution_count": 3,
   "id": "47126135",
   "metadata": {},
   "outputs": [],
   "source": [
    "import snscrape.modules.twitter as sntwitter"
   ]
  },
  {
   "cell_type": "code",
   "execution_count": 4,
   "id": "fb93aef8",
   "metadata": {},
   "outputs": [],
   "source": [
    "search_query = \"#COVID19\""
   ]
  },
  {
   "cell_type": "code",
   "execution_count": 5,
   "id": "c890dbec",
   "metadata": {},
   "outputs": [],
   "source": [
    "tweets_list = []"
   ]
  },
  {
   "cell_type": "code",
   "execution_count": null,
   "id": "7b365c2c",
   "metadata": {},
   "outputs": [],
   "source": [
    "for i, tweet in enumerate(sntwitter.TwitterSearchScraper(search_query).get_items()):\n",
    "    \n",
    "    \n",
    "    if i > 1000: \n",
    "        \n",
    "        \n",
    "# number of tweets to scrape\n",
    "        break\n",
    "    tweet_dict ={\n",
    "        \"date\": tweet.date.strftime(\"%Y-%m-%d %H:%M:%S\"),\n",
    "        \"id\": tweet.id,\n",
    "        \"url\": tweet.url,\n",
    "        \"content\": tweet.content,\n",
    "        \"user\": tweet.user.username,\n",
    "        \"reply_count\": tweet.replyCount,\n",
    "        \"retweet_count\": tweet.retweetCount,\n",
    "        \"language\": tweet.lang,\n",
    "        \"source\": tweet.sourceLabel,\n",
    "        \"like_count\": tweet.likeCount,\n",
    "    }\n",
    "    tweets_list.append(tweet_dict)"
   ]
  },
  {
   "cell_type": "code",
   "execution_count": 9,
   "id": "d23c55f5",
   "metadata": {},
   "outputs": [],
   "source": [
    "import pandas as pd"
   ]
  },
  {
   "cell_type": "code",
   "execution_count": 10,
   "id": "1957d989",
   "metadata": {},
   "outputs": [
    {
     "data": {
      "text/html": [
       "<div>\n",
       "<style scoped>\n",
       "    .dataframe tbody tr th:only-of-type {\n",
       "        vertical-align: middle;\n",
       "    }\n",
       "\n",
       "    .dataframe tbody tr th {\n",
       "        vertical-align: top;\n",
       "    }\n",
       "\n",
       "    .dataframe thead th {\n",
       "        text-align: right;\n",
       "    }\n",
       "</style>\n",
       "<table border=\"1\" class=\"dataframe\">\n",
       "  <thead>\n",
       "    <tr style=\"text-align: right;\">\n",
       "      <th></th>\n",
       "      <th>date</th>\n",
       "      <th>id</th>\n",
       "      <th>url</th>\n",
       "      <th>content</th>\n",
       "      <th>user</th>\n",
       "      <th>reply_count</th>\n",
       "      <th>retweet_count</th>\n",
       "      <th>language</th>\n",
       "      <th>source</th>\n",
       "      <th>like_count</th>\n",
       "    </tr>\n",
       "  </thead>\n",
       "  <tbody>\n",
       "    <tr>\n",
       "      <th>0</th>\n",
       "      <td>2023-04-07 16:57:06</td>\n",
       "      <td>1644383811336278017</td>\n",
       "      <td>https://twitter.com/ct_investigator/status/164...</td>\n",
       "      <td>The Lamont administration announced on Friday ...</td>\n",
       "      <td>ct_investigator</td>\n",
       "      <td>0</td>\n",
       "      <td>0</td>\n",
       "      <td>en</td>\n",
       "      <td>Twitter Web App</td>\n",
       "      <td>0</td>\n",
       "    </tr>\n",
       "    <tr>\n",
       "      <th>1</th>\n",
       "      <td>2023-04-07 16:56:48</td>\n",
       "      <td>1644383736358633491</td>\n",
       "      <td>https://twitter.com/SocPapahatzis/status/16443...</td>\n",
       "      <td>ΑΠΙΣΤΕΥΤΕΣ ΑΠΟΚΑΛΥΨΕΙΣ ΠΕΡΙ COVID \\ngo to blog...</td>\n",
       "      <td>SocPapahatzis</td>\n",
       "      <td>0</td>\n",
       "      <td>0</td>\n",
       "      <td>und</td>\n",
       "      <td>Twitter Web App</td>\n",
       "      <td>0</td>\n",
       "    </tr>\n",
       "    <tr>\n",
       "      <th>2</th>\n",
       "      <td>2023-04-07 16:56:12</td>\n",
       "      <td>1644383583769853970</td>\n",
       "      <td>https://twitter.com/ADelaurore/status/16443835...</td>\n",
       "      <td>#COVID19</td>\n",
       "      <td>ADelaurore</td>\n",
       "      <td>0</td>\n",
       "      <td>0</td>\n",
       "      <td>qht</td>\n",
       "      <td>Twitter for Android</td>\n",
       "      <td>0</td>\n",
       "    </tr>\n",
       "    <tr>\n",
       "      <th>3</th>\n",
       "      <td>2023-04-07 16:55:53</td>\n",
       "      <td>1644383506213269504</td>\n",
       "      <td>https://twitter.com/jaideepshenoy/status/16443...</td>\n",
       "      <td>#COVID19 Karnataka cumulatively tested 12681 s...</td>\n",
       "      <td>jaideepshenoy</td>\n",
       "      <td>1</td>\n",
       "      <td>0</td>\n",
       "      <td>en</td>\n",
       "      <td>Twitter Web App</td>\n",
       "      <td>0</td>\n",
       "    </tr>\n",
       "    <tr>\n",
       "      <th>4</th>\n",
       "      <td>2023-04-07 16:55:53</td>\n",
       "      <td>1644383504220966914</td>\n",
       "      <td>https://twitter.com/jaideepshenoy/status/16443...</td>\n",
       "      <td>#COVID19 As of 11.59pm on April 6 from March 8...</td>\n",
       "      <td>jaideepshenoy</td>\n",
       "      <td>1</td>\n",
       "      <td>0</td>\n",
       "      <td>en</td>\n",
       "      <td>Twitter Web App</td>\n",
       "      <td>0</td>\n",
       "    </tr>\n",
       "    <tr>\n",
       "      <th>...</th>\n",
       "      <td>...</td>\n",
       "      <td>...</td>\n",
       "      <td>...</td>\n",
       "      <td>...</td>\n",
       "      <td>...</td>\n",
       "      <td>...</td>\n",
       "      <td>...</td>\n",
       "      <td>...</td>\n",
       "      <td>...</td>\n",
       "      <td>...</td>\n",
       "    </tr>\n",
       "    <tr>\n",
       "      <th>373</th>\n",
       "      <td>2023-04-07 15:12:55</td>\n",
       "      <td>1644357594545307649</td>\n",
       "      <td>https://twitter.com/contraviamx/status/1644357...</td>\n",
       "      <td>La @opsoms cumple 75 años: De la erradicación ...</td>\n",
       "      <td>contraviamx</td>\n",
       "      <td>0</td>\n",
       "      <td>0</td>\n",
       "      <td>es</td>\n",
       "      <td>Twitter Web App</td>\n",
       "      <td>0</td>\n",
       "    </tr>\n",
       "    <tr>\n",
       "      <th>374</th>\n",
       "      <td>2023-04-07 15:12:55</td>\n",
       "      <td>1644357593173835779</td>\n",
       "      <td>https://twitter.com/SmallBigWord/status/164435...</td>\n",
       "      <td>Will NHS teach its staff that #COVID19 IS NOT ...</td>\n",
       "      <td>SmallBigWord</td>\n",
       "      <td>0</td>\n",
       "      <td>1</td>\n",
       "      <td>en</td>\n",
       "      <td>Twitter Web App</td>\n",
       "      <td>1</td>\n",
       "    </tr>\n",
       "    <tr>\n",
       "      <th>375</th>\n",
       "      <td>2023-04-07 15:12:34</td>\n",
       "      <td>1644357504250560512</td>\n",
       "      <td>https://twitter.com/simonkim__nft/status/16443...</td>\n",
       "      <td>Finally, the cumulative number of complete cur...</td>\n",
       "      <td>simonkim__nft</td>\n",
       "      <td>0</td>\n",
       "      <td>0</td>\n",
       "      <td>en</td>\n",
       "      <td>Twitter for iPhone</td>\n",
       "      <td>1</td>\n",
       "    </tr>\n",
       "    <tr>\n",
       "      <th>376</th>\n",
       "      <td>2023-04-07 15:12:33</td>\n",
       "      <td>1644357501603676161</td>\n",
       "      <td>https://twitter.com/RodolfoRos1/status/1644357...</td>\n",
       "      <td>Cuál pinche complejo jajajaja\\n#ViernesDeGanar...</td>\n",
       "      <td>RodolfoRos1</td>\n",
       "      <td>0</td>\n",
       "      <td>0</td>\n",
       "      <td>es</td>\n",
       "      <td>Twitter for Android</td>\n",
       "      <td>0</td>\n",
       "    </tr>\n",
       "    <tr>\n",
       "      <th>377</th>\n",
       "      <td>2023-04-07 15:11:17</td>\n",
       "      <td>1644357183453163521</td>\n",
       "      <td>https://twitter.com/RodolfoRos1/status/1644357...</td>\n",
       "      <td>Viernes Santo\\n#ViernesDeGanarSeguidores #Feli...</td>\n",
       "      <td>RodolfoRos1</td>\n",
       "      <td>0</td>\n",
       "      <td>0</td>\n",
       "      <td>es</td>\n",
       "      <td>Twitter for Android</td>\n",
       "      <td>0</td>\n",
       "    </tr>\n",
       "  </tbody>\n",
       "</table>\n",
       "<p>378 rows × 10 columns</p>\n",
       "</div>"
      ],
      "text/plain": [
       "                    date                   id  \\\n",
       "0    2023-04-07 16:57:06  1644383811336278017   \n",
       "1    2023-04-07 16:56:48  1644383736358633491   \n",
       "2    2023-04-07 16:56:12  1644383583769853970   \n",
       "3    2023-04-07 16:55:53  1644383506213269504   \n",
       "4    2023-04-07 16:55:53  1644383504220966914   \n",
       "..                   ...                  ...   \n",
       "373  2023-04-07 15:12:55  1644357594545307649   \n",
       "374  2023-04-07 15:12:55  1644357593173835779   \n",
       "375  2023-04-07 15:12:34  1644357504250560512   \n",
       "376  2023-04-07 15:12:33  1644357501603676161   \n",
       "377  2023-04-07 15:11:17  1644357183453163521   \n",
       "\n",
       "                                                   url  \\\n",
       "0    https://twitter.com/ct_investigator/status/164...   \n",
       "1    https://twitter.com/SocPapahatzis/status/16443...   \n",
       "2    https://twitter.com/ADelaurore/status/16443835...   \n",
       "3    https://twitter.com/jaideepshenoy/status/16443...   \n",
       "4    https://twitter.com/jaideepshenoy/status/16443...   \n",
       "..                                                 ...   \n",
       "373  https://twitter.com/contraviamx/status/1644357...   \n",
       "374  https://twitter.com/SmallBigWord/status/164435...   \n",
       "375  https://twitter.com/simonkim__nft/status/16443...   \n",
       "376  https://twitter.com/RodolfoRos1/status/1644357...   \n",
       "377  https://twitter.com/RodolfoRos1/status/1644357...   \n",
       "\n",
       "                                               content             user  \\\n",
       "0    The Lamont administration announced on Friday ...  ct_investigator   \n",
       "1    ΑΠΙΣΤΕΥΤΕΣ ΑΠΟΚΑΛΥΨΕΙΣ ΠΕΡΙ COVID \\ngo to blog...    SocPapahatzis   \n",
       "2                                             #COVID19       ADelaurore   \n",
       "3    #COVID19 Karnataka cumulatively tested 12681 s...    jaideepshenoy   \n",
       "4    #COVID19 As of 11.59pm on April 6 from March 8...    jaideepshenoy   \n",
       "..                                                 ...              ...   \n",
       "373  La @opsoms cumple 75 años: De la erradicación ...      contraviamx   \n",
       "374  Will NHS teach its staff that #COVID19 IS NOT ...     SmallBigWord   \n",
       "375  Finally, the cumulative number of complete cur...    simonkim__nft   \n",
       "376  Cuál pinche complejo jajajaja\\n#ViernesDeGanar...      RodolfoRos1   \n",
       "377  Viernes Santo\\n#ViernesDeGanarSeguidores #Feli...      RodolfoRos1   \n",
       "\n",
       "     reply_count  retweet_count language               source  like_count  \n",
       "0              0              0       en      Twitter Web App           0  \n",
       "1              0              0      und      Twitter Web App           0  \n",
       "2              0              0      qht  Twitter for Android           0  \n",
       "3              1              0       en      Twitter Web App           0  \n",
       "4              1              0       en      Twitter Web App           0  \n",
       "..           ...            ...      ...                  ...         ...  \n",
       "373            0              0       es      Twitter Web App           0  \n",
       "374            0              1       en      Twitter Web App           1  \n",
       "375            0              0       en   Twitter for iPhone           1  \n",
       "376            0              0       es  Twitter for Android           0  \n",
       "377            0              0       es  Twitter for Android           0  \n",
       "\n",
       "[378 rows x 10 columns]"
      ]
     },
     "execution_count": 10,
     "metadata": {},
     "output_type": "execute_result"
    }
   ],
   "source": [
    "df = pd.DataFrame(tweets_list)\n",
    "df"
   ]
  },
  {
   "cell_type": "code",
   "execution_count": 11,
   "id": "34699cb4",
   "metadata": {},
   "outputs": [
    {
     "name": "stdout",
     "output_type": "stream",
     "text": [
      "                  date                   id  \\\n",
      "0  2023-04-07 16:57:06  1644383811336278017   \n",
      "1  2023-04-07 16:56:48  1644383736358633491   \n",
      "2  2023-04-07 16:56:12  1644383583769853970   \n",
      "3  2023-04-07 16:55:53  1644383506213269504   \n",
      "4  2023-04-07 16:55:53  1644383504220966914   \n",
      "\n",
      "                                                 url  \\\n",
      "0  https://twitter.com/ct_investigator/status/164...   \n",
      "1  https://twitter.com/SocPapahatzis/status/16443...   \n",
      "2  https://twitter.com/ADelaurore/status/16443835...   \n",
      "3  https://twitter.com/jaideepshenoy/status/16443...   \n",
      "4  https://twitter.com/jaideepshenoy/status/16443...   \n",
      "\n",
      "                                             content             user  \\\n",
      "0  The Lamont administration announced on Friday ...  ct_investigator   \n",
      "1  ΑΠΙΣΤΕΥΤΕΣ ΑΠΟΚΑΛΥΨΕΙΣ ΠΕΡΙ COVID \\ngo to blog...    SocPapahatzis   \n",
      "2                                           #COVID19       ADelaurore   \n",
      "3  #COVID19 Karnataka cumulatively tested 12681 s...    jaideepshenoy   \n",
      "4  #COVID19 As of 11.59pm on April 6 from March 8...    jaideepshenoy   \n",
      "\n",
      "   reply_count  retweet_count language               source  like_count  \n",
      "0            0              0       en      Twitter Web App           0  \n",
      "1            0              0      und      Twitter Web App           0  \n",
      "2            0              0      qht  Twitter for Android           0  \n",
      "3            1              0       en      Twitter Web App           0  \n",
      "4            1              0       en      Twitter Web App           0  \n"
     ]
    }
   ],
   "source": [
    "print(df.head())"
   ]
  },
  {
   "cell_type": "code",
   "execution_count": 1,
   "id": "875ad149",
   "metadata": {},
   "outputs": [
    {
     "name": "stdout",
     "output_type": "stream",
     "text": [
      "^C\n",
      "Note: you may need to restart the kernel to use updated packages.\n"
     ]
    }
   ],
   "source": [
    "pip install pymongo"
   ]
  },
  {
   "cell_type": "code",
   "execution_count": 4,
   "id": "92fba3ef",
   "metadata": {},
   "outputs": [],
   "source": [
    "import pymongo\n",
    "from datetime import datetime, timedelta\n",
    "import snscrape.modules.twitter as sntwitter"
   ]
  },
  {
   "cell_type": "code",
   "execution_count": 5,
   "id": "04407c7c",
   "metadata": {},
   "outputs": [
    {
     "data": {
      "text/plain": [
       "Database(MongoClient(host=['localhost:27017'], document_class=dict, tz_aware=False, connect=True), 'twitter')"
      ]
     },
     "execution_count": 5,
     "metadata": {},
     "output_type": "execute_result"
    }
   ],
   "source": [
    "client = pymongo.MongoClient(\"mongodb://localhost:27017/\")\n",
    "db = client[\"twitter\"]\n",
    "db"
   ]
  },
  {
   "cell_type": "code",
   "execution_count": 6,
   "id": "59effd59",
   "metadata": {},
   "outputs": [],
   "source": [
    "search_query = \"#COVID19\""
   ]
  },
  {
   "cell_type": "code",
   "execution_count": 7,
   "id": "6de2cd8b",
   "metadata": {},
   "outputs": [],
   "source": [
    "days_to_scrape = 100"
   ]
  },
  {
   "cell_type": "code",
   "execution_count": 8,
   "id": "c814d27a",
   "metadata": {},
   "outputs": [],
   "source": [
    "end_date = datetime.now()\n",
    "start_date = end_date - timedelta(days=days_to_scrape)"
   ]
  },
  {
   "cell_type": "code",
   "execution_count": null,
   "id": "53741efb",
   "metadata": {},
   "outputs": [],
   "source": [
    "tweets_list = []\n",
    "for i, tweet in enumerate(sntwitter.TwitterSearchScraper(f\"{search_query} since:{start_date.date()} until:{end_date.date()}\").get_items()):\n",
    "    if i > 1000: \n",
    "# number of tweets to scrape\n",
    "        break\n",
    "    tweet_dict = {\n",
    "        \"date\": tweet.date.strftime(\"%Y-%m-%d %H:%M:%S\"),\n",
    "        \"id\": tweet.id,\n",
    "        \"url\": tweet.url,\n",
    "        \"content\": tweet.content,\n",
    "        \"user\": tweet.user.username,\n",
    "        \"reply_count\": tweet.replyCount,\n",
    "        \"retweet_count\": tweet.retweetCount,\n",
    "        \"language\": tweet.lang,\n",
    "        \"source\": tweet.sourceLabel,\n",
    "        \"like_count\": tweet.likeCount,\n",
    "    }\n",
    "    tweets_list.append(tweet_dict)"
   ]
  },
  {
   "cell_type": "code",
   "execution_count": 11,
   "id": "3d172058",
   "metadata": {},
   "outputs": [],
   "source": [
    "data_dict = {\n",
    "    \"scraped_word\": search_query,\n",
    "    \"scraped_date\": end_date.strftime(\"%d-%m-%Y\"),\n",
    "    \"scraped_data\": tweets_list,\n",
    "}"
   ]
  },
  {
   "cell_type": "code",
   "execution_count": 12,
   "id": "a7fe8f99",
   "metadata": {},
   "outputs": [
    {
     "data": {
      "text/plain": [
       "<pymongo.results.InsertOneResult at 0x2a5b3489b80>"
      ]
     },
     "execution_count": 12,
     "metadata": {},
     "output_type": "execute_result"
    }
   ],
   "source": [
    "collection = db['twitter_data']\n",
    "collection.insert_one(data_dict)"
   ]
  },
  {
   "cell_type": "code",
   "execution_count": 33,
   "id": "58320ca9",
   "metadata": {},
   "outputs": [
    {
     "name": "stdout",
     "output_type": "stream",
     "text": [
      "^C\n",
      "Note: you may need to restart the kernel to use updated packages.\n"
     ]
    }
   ],
   "source": [
    "pip install streamlit"
   ]
  },
  {
   "cell_type": "code",
   "execution_count": 34,
   "id": "d7bf4327",
   "metadata": {},
   "outputs": [
    {
     "name": "stdout",
     "output_type": "stream",
     "text": [
      "^C\n",
      "Note: you may need to restart the kernel to use updated packages.\n"
     ]
    }
   ],
   "source": [
    "pip install json"
   ]
  },
  {
   "cell_type": "code",
   "execution_count": 38,
   "id": "694cd6c0",
   "metadata": {},
   "outputs": [
    {
     "name": "stdout",
     "output_type": "stream",
     "text": [
      "^C\n",
      "Note: you may need to restart the kernel to use updated packages.\n"
     ]
    }
   ],
   "source": [
    "pip install pymango"
   ]
  },
  {
   "cell_type": "code",
   "execution_count": 39,
   "id": "edd5ccf2",
   "metadata": {},
   "outputs": [
    {
     "name": "stdout",
     "output_type": "stream",
     "text": [
      "^C\n",
      "Note: you may need to restart the kernel to use updated packages.\n"
     ]
    }
   ],
   "source": [
    "pip install pandas"
   ]
  },
  {
   "cell_type": "code",
   "execution_count": null,
   "id": "7e2aad8e",
   "metadata": {},
   "outputs": [],
   "source": [
    "pip install matlablib"
   ]
  },
  {
   "cell_type": "code",
   "execution_count": null,
   "id": "11f0fd49",
   "metadata": {},
   "outputs": [],
   "source": [
    "import streamlit as st\n",
    "import pandas as pd\n",
    "import json\n",
    "import pymongo\n",
    "import snscrape.modules.twitter as sntwitter\n",
    "from datetime import datetime, timedelta\n",
    "import matplotlib as mpl\n",
    "import matplotlib.pyplot as plt"
   ]
  },
  {
   "cell_type": "code",
   "execution_count": null,
   "id": "9221c33a",
   "metadata": {},
   "outputs": [],
   "source": [
    "# Connect to MongoDB\n",
    "client = pymongo.MongoClient(\"mongodb://localhost:27017/\")\n",
    "db = client[\"twitter\"]\n",
    "collection = db[\"twitter_data\"]"
   ]
  },
  {
   "cell_type": "code",
   "execution_count": 45,
   "id": "13b49f94",
   "metadata": {},
   "outputs": [],
   "source": [
    "# Function to scrape tweets and return a DataFrame\n",
    "def scrape_tweets(keyword, start_date, end_date, tweet_count):\n",
    "    tweets_list = []\n",
    "    for i, tweet in enumerate(sntwitter.TwitterSearchScraper(f\"{keyword} since:{start_date.date()} until:{end_date.date()}\").get_items()):\n",
    "        if i >= tweet_count:\n",
    "            break\n",
    "        tweet_dict = {\n",
    "            \"date\": tweet.date.strftime(\"%Y-%m-%d %H:%M:%S\"),\n",
    "            \"id\": tweet.id,\n",
    "            \"url\": tweet.url,\n",
    "            \"content\": tweet.content,\n",
    "            \"user\": tweet.user.username,\n",
    "            \"reply_count\": tweet.replyCount,\n",
    "            \"retweet_count\": tweet.retweetCount,\n",
    "            \"language\": tweet.lang,\n",
    "            \"source\": tweet.sourceLabel,\n",
    "            \"like_count\": tweet.likeCount,\n",
    "        }\n",
    "        tweets_list.append(tweet_dict)\n",
    "# Convert tweets list to DataFrame\n",
    "        df = pd.DataFrame(tweets_list)\n",
    "        return df\n",
    "    \n",
    "    "
   ]
  },
  {
   "cell_type": "code",
   "execution_count": 57,
   "id": "45906c36",
   "metadata": {},
   "outputs": [],
   "source": [
    "# Streamlit app\n",
    "def app():\n",
    "    st.title(\"Twitter Data Scraper\")\n",
    "    # Get keyword from user\n",
    "    keyword = st.text_input(\"Enter the keyword or hashtag to search\")\n",
    "    # Get date range from user\n",
    "    start_date = st.date_input(\"Select the start date\")\n",
    "    end_date = st.date_input(\"Select the end date\")\n",
    "    # Get tweet count from user\n",
    "    tweet_count = st.number_input(\"Enter the number of tweets to scrape\", min_value=1, value=100)\n",
    "    # Scrape tweets and display them\n",
    "    if st.button(\"Scrape Tweets\"):\n",
    "        df = scrape_tweets(keyword, start_date, end_date, tweet_count)\n",
    "        st.write(df)\n",
    "        # Add button to upload data to MongoDB\n",
    "        if st.button(\"Upload to MongoDB\"):\n",
    "            data_dict = {\n",
    "                \"scraped_word\": keyword,\n",
    "                \"scraped_date\": datetime.now().strftime(\"%d-%m-%Y\"),\n",
    "                \"scraped_data\": df.to_dict(\"records\"),\n",
    "            }\n",
    "            collection.insert_one(data_dict)\n",
    "            st.success(\"Data uploaded to MongoDB\")\n",
    "            # Add buttons to download data as CSV or JSON\n",
    "        if not df.empty:\n",
    "            csv = df.to_csv(index=False)\n",
    "            b64 = base64.b64encode(csv.encode()).decode()\n",
    "            st.markdown(f'<a href=\"data:file/csv;base64,{b64}\" download=\"twitter_data.csv\">Download CSV</a>', unsafe_allow_html=True)\n",
    "            \n",
    "            json_str = df.to_json(orient=\"records\")\n",
    "            b64 = base64.b64encode(json_str.encode()).decode()\n",
    "            st.markdown(f'<a href=\"data:application/json;base64,{b64}\" download=\"twitter_data.json\">Download JSON</a>', unsafe_allow_html=True)\n",
    "\n",
    "\n",
    "        \n",
    "\n",
    "    "
   ]
  },
  {
   "cell_type": "code",
   "execution_count": null,
   "id": "530f3d96",
   "metadata": {},
   "outputs": [],
   "source": []
  },
  {
   "cell_type": "code",
   "execution_count": null,
   "id": "5af6fcb8",
   "metadata": {},
   "outputs": [],
   "source": []
  }
 ],
 "metadata": {
  "kernelspec": {
   "display_name": "Python 3 (ipykernel)",
   "language": "python",
   "name": "python3"
  },
  "language_info": {
   "codemirror_mode": {
    "name": "ipython",
    "version": 3
   },
   "file_extension": ".py",
   "mimetype": "text/x-python",
   "name": "python",
   "nbconvert_exporter": "python",
   "pygments_lexer": "ipython3",
   "version": "3.9.13"
  }
 },
 "nbformat": 4,
 "nbformat_minor": 5
}
